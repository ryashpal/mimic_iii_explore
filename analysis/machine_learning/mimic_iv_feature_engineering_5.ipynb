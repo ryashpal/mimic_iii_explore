{
 "cells": [
  {
   "cell_type": "markdown",
   "id": "67f21d0e-7b99-4d8b-a77d-e311c35d9607",
   "metadata": {},
   "source": [
    "## 1. Import Libraries"
   ]
  },
  {
   "cell_type": "code",
   "execution_count": 1,
   "id": "6f1e717d-1e38-440d-bd25-13292efe5854",
   "metadata": {},
   "outputs": [],
   "source": [
    "import psycopg2\n",
    "\n",
    "import pandas as pd\n",
    "import numpy as np\n",
    "\n",
    "import xgboost as xgb\n",
    "\n",
    "import tensorflow as tf\n",
    "\n",
    "import mimic_iv_utils as utils\n",
    "\n",
    "from functools import reduce\n",
    "\n",
    "from tqdm import tqdm\n",
    "\n",
    "from sklearn.model_selection import train_test_split\n",
    "from sklearn.pipeline import Pipeline\n",
    "from sklearn.impute import SimpleImputer\n",
    "from sklearn.preprocessing import StandardScaler\n",
    "from sklearn.linear_model import LogisticRegression\n",
    "from sklearn.neural_network import MLPClassifier\n",
    "\n",
    "from sklearn import metrics\n",
    "\n",
    "from tensorflow import keras\n",
    "from tensorflow.keras import layers\n",
    "from tensorflow.keras.layers.experimental import preprocessing\n",
    "from keras.models import Sequential\n",
    "from sklearn.metrics import confusion_matrix, ConfusionMatrixDisplay\n",
    "\n",
    "from matplotlib import pyplot as plt"
   ]
  },
  {
   "cell_type": "markdown",
   "id": "f824b05c-2208-43b9-b171-dd9779c9cddf",
   "metadata": {},
   "source": [
    "## 2. Connect to DB"
   ]
  },
  {
   "cell_type": "code",
   "execution_count": 2,
   "id": "8873da6f-06c0-45b7-b4a6-69ae10cb156e",
   "metadata": {},
   "outputs": [],
   "source": [
    "# information used to create a database connection\n",
    "sqluser = 'postgres'\n",
    "dbname = 'mimic4'\n",
    "hostname = 'localhost'\n",
    "port_number = 5434\n",
    "schema_name = 'mimiciv'\n",
    "\n",
    "# Connect to postgres with a copy of the MIMIC-III database\n",
    "con = psycopg2.connect(dbname=dbname, user=sqluser, host=hostname, port=port_number, password='mysecretpassword')\n",
    "\n",
    "# the below statement is prepended to queries to ensure they select from the right schema\n",
    "query_schema = 'set search_path to ' + schema_name + ';'"
   ]
  },
  {
   "cell_type": "markdown",
   "id": "ae8bbc06-655d-4187-a7c7-99371fe7a7e2",
   "metadata": {},
   "source": [
    "## 3. Fetch Data"
   ]
  },
  {
   "cell_type": "code",
   "execution_count": 3,
   "id": "0651ee9a-1d66-44e4-a3ce-1564a0d84c7d",
   "metadata": {},
   "outputs": [],
   "source": [
    "static = utils.getStaticFeatures()\n",
    "first_lab = utils.getLabFeatures(duration=24)\n",
    "last_lab = utils.getLabFeatures(mode='last', duration=24)\n",
    "first_vitals = utils.getVitalsFeatures(duration=24)\n",
    "last_vitals = utils.getVitalsFeatures(mode='last', duration=24)\n",
    "max_vitals = utils.getMinMaxVitalsFeatures(mode='max', duration=24)\n",
    "min_vitals = utils.getMinMaxVitalsFeatures(duration=24)\n",
    "avg_vitals = utils.getMinMaxVitalsFeatures(mode='avg', duration=24)\n",
    "mortality = utils.getInhospitalMortality()"
   ]
  },
  {
   "cell_type": "markdown",
   "id": "d3915258-f4dc-4860-bb9e-51a643ac0ad6",
   "metadata": {},
   "source": [
    "## 4. Unique Patients"
   ]
  },
  {
   "cell_type": "code",
   "execution_count": 6,
   "id": "c2f2a387-a390-46f9-a3b4-c03d623b7f7e",
   "metadata": {},
   "outputs": [],
   "source": [
    "query = query_schema + \\\n",
    "\"\"\"\n",
    "SELECT\n",
    "icu.stay_id\n",
    "FROM\n",
    "mimiciv.icustays icu\n",
    "INNER JOIN mimiciv.admissions adm\n",
    "ON adm.hadm_id = icu.hadm_id\n",
    "INNER JOIN mimiciv.patients pat\n",
    "ON pat.subject_id = adm.subject_id\n",
    "WHERE (icu.outtime >= icu.intime + interval '24 hour')\n",
    "AND (FLOOR(DATE_PART('day', adm.admittime - make_timestamp(pat.anchor_year, 1, 1, 0, 0, 0))/365.0) + pat.anchor_age) > 18\n",
    "AND icu.intime = (\n",
    "\tSELECT MAX(icu_max.intime) FROM mimiciv.icustays icu_max WHERE icu_max.subject_id = pat.subject_id\n",
    ")\"\"\"\n",
    "\n",
    "filtered = pd.read_sql_query(query, con)"
   ]
  },
  {
   "cell_type": "code",
   "execution_count": 7,
   "id": "33daa13e-8357-4fad-ae2a-3fc29472f5fd",
   "metadata": {},
   "outputs": [],
   "source": [
    "dfs = [filtered, static, first_lab, last_lab, first_vitals, last_vitals, max_vitals, min_vitals, avg_vitals, mortality]\n",
    "data = reduce(lambda  left, right: pd.merge(left, right, on=['stay_id'], how='inner'), dfs)"
   ]
  },
  {
   "cell_type": "code",
   "execution_count": 12,
   "id": "19a61cbc-b79c-4360-8644-524da59a07f5",
   "metadata": {},
   "outputs": [],
   "source": [
    "X = data.values\n",
    "y = X[:,-1]\n",
    "y = y.astype('int')\n",
    "X = X[:,0:-1]\n",
    "X_header = [x for x in data.columns.values]\n",
    "X_header = X_header[0:-1]\n",
    "X_train, X_test, y_train, y_test = train_test_split(X, y, test_size=0.2, random_state=42)"
   ]
  },
  {
   "cell_type": "code",
   "execution_count": 13,
   "id": "59f4e848-d8a6-4104-94c4-8fa22a3c271e",
   "metadata": {},
   "outputs": [
    {
     "name": "stdout",
     "output_type": "stream",
     "text": [
      "Epoch 1/5\n",
      "131/131 [==============================] - 24s 6ms/step - loss: 0.4879 - accuracy: 0.7606 - val_loss: 0.2621 - val_accuracy: 0.8931\n",
      "Epoch 2/5\n",
      "131/131 [==============================] - 0s 2ms/step - loss: 0.2489 - accuracy: 0.8973 - val_loss: 0.2515 - val_accuracy: 0.8944\n",
      "Epoch 3/5\n",
      "131/131 [==============================] - 0s 2ms/step - loss: 0.2340 - accuracy: 0.9015 - val_loss: 0.2530 - val_accuracy: 0.8922\n",
      "Epoch 4/5\n",
      "131/131 [==============================] - 0s 2ms/step - loss: 0.2268 - accuracy: 0.9044 - val_loss: 0.2472 - val_accuracy: 0.8925\n",
      "Epoch 5/5\n",
      "131/131 [==============================] - 0s 2ms/step - loss: 0.2146 - accuracy: 0.9107 - val_loss: 0.2454 - val_accuracy: 0.8935\n"
     ]
    }
   ],
   "source": [
    "X_train_array = np.asarray(X_train).astype('float32')\n",
    "X_test_array = np.asarray(X_test).astype('float32')\n",
    "imp_mean = SimpleImputer(missing_values=np.nan, strategy='mean')\n",
    "imp_mean.fit(X_train_array)\n",
    "X_train_imputed = imp_mean.transform(X_train_array)\n",
    "X_test_imputed = imp_mean.transform(X_test_array)\n",
    "normalizer = preprocessing.Normalization()\n",
    "normalizer.adapt(X_train_imputed)\n",
    "X_train_noralized = normalizer(X_train_imputed)\n",
    "X_test_noralized = normalizer(X_test_imputed)\n",
    "\n",
    "model = Sequential()\n",
    "model.add(layers.Dense(X_train.shape[1], activation=tf.nn.relu, kernel_initializer='he_normal', bias_initializer='zeros'))\n",
    "model.add(layers.Dense(40, activation=tf.nn.relu, kernel_initializer='he_normal', bias_initializer='zeros'))\n",
    "model.add(layers.Dense(1, activation=tf.nn.sigmoid, kernel_initializer='he_normal', bias_initializer='zeros'))\n",
    "\n",
    "model.compile(optimizer=\"adam\", loss=\"binary_crossentropy\", metrics=[\"accuracy\"])\n",
    "\n",
    "model.fit(X_train_noralized, y_train, validation_data=(X_test_noralized, y_test), epochs=5, batch_size=256)\n",
    "\n",
    "probs = model.predict(X_test_noralized)"
   ]
  },
  {
   "cell_type": "code",
   "execution_count": 14,
   "id": "5dabe574-6bde-4cb2-8f35-47f28f1afb3a",
   "metadata": {},
   "outputs": [
    {
     "name": "stdout",
     "output_type": "stream",
     "text": [
      "ROC:  0.9080074340363302\n",
      "              precision    recall  f1-score   support\n",
      "\n",
      "           0       0.92      0.96      0.94      7205\n",
      "           1       0.67      0.46      0.54      1165\n",
      "\n",
      "    accuracy                           0.89      8370\n",
      "   macro avg       0.79      0.71      0.74      8370\n",
      "weighted avg       0.88      0.89      0.88      8370\n",
      "\n"
     ]
    },
    {
     "data": {
      "text/plain": [
       "<sklearn.metrics._plot.confusion_matrix.ConfusionMatrixDisplay at 0x7fac6dc4c520>"
      ]
     },
     "execution_count": 14,
     "metadata": {},
     "output_type": "execute_result"
    },
    {
     "data": {
      "image/png": "[encoded data removed]",
      "text/plain": [
       "<Figure size 432x288 with 2 Axes>"
      ]
     },
     "metadata": {
      "needs_background": "light"
     },
     "output_type": "display_data"
    }
   ],
   "source": [
    "preds = np.around(probs)\n",
    "\n",
    "roc_score = metrics.roc_auc_score(y_test, probs)\n",
    "\n",
    "print('ROC: ', roc_score)\n",
    "\n",
    "classification_report = metrics.classification_report(y_test, preds)\n",
    "print(classification_report)\n",
    "\n",
    "cm = confusion_matrix(y_test, preds, labels=[0, 1])\n",
    "disp = ConfusionMatrixDisplay(confusion_matrix=cm, display_labels=['survided', 'not-survived'])\n",
    "disp.plot()"
   ]
  },
  {
   "cell_type": "markdown",
   "id": "01fa9cea-62fe-469c-af3e-b9e2a1b24430",
   "metadata": {},
   "source": [
    "## 5. Unique Admissions"
   ]
  },
  {
   "cell_type": "code",
   "execution_count": 15,
   "id": "a35f0643-a46d-4b34-99a7-2e2d45169938",
   "metadata": {},
   "outputs": [],
   "source": [
    "query = query_schema + \\\n",
    "\"\"\"\n",
    "SELECT\n",
    "icu.stay_id\n",
    "FROM\n",
    "mimiciv.icustays icu\n",
    "INNER JOIN mimiciv.admissions adm\n",
    "ON adm.hadm_id = icu.hadm_id\n",
    "INNER JOIN mimiciv.patients pat\n",
    "ON pat.subject_id = adm.subject_id\n",
    "WHERE (icu.outtime >= icu.intime + interval '24 hour')\n",
    "AND (FLOOR(DATE_PART('day', adm.admittime - make_timestamp(pat.anchor_year, 1, 1, 0, 0, 0))/365.0) + pat.anchor_age) > 18\n",
    "AND icu.intime = (\n",
    "\tSELECT MAX(icu_max.intime) FROM mimiciv.icustays icu_max WHERE icu_max.hadm_id = adm.hadm_id\n",
    ")\"\"\"\n",
    "\n",
    "filtered = pd.read_sql_query(query, con)"
   ]
  },
  {
   "cell_type": "code",
   "execution_count": 16,
   "id": "389c1349-a3f6-4857-b6c8-6db899845a4a",
   "metadata": {},
   "outputs": [],
   "source": [
    "dfs = [filtered, static, first_lab, last_lab, first_vitals, last_vitals, max_vitals, min_vitals, avg_vitals, mortality]\n",
    "data = reduce(lambda  left, right: pd.merge(left, right, on=['stay_id'], how='inner'), dfs)"
   ]
  },
  {
   "cell_type": "code",
   "execution_count": 18,
   "id": "53497bcf-b71d-4419-80fe-fd9af7ed44a3",
   "metadata": {},
   "outputs": [],
   "source": [
    "X = data.values\n",
    "y = X[:,-1]\n",
    "y = y.astype('int')\n",
    "X = X[:,0:-1]\n",
    "X_header = [x for x in data.columns.values]\n",
    "X_header = X_header[0:-1]\n",
    "X_train, X_test, y_train, y_test = train_test_split(X, y, test_size=0.2, random_state=42)"
   ]
  },
  {
   "cell_type": "code",
   "execution_count": 19,
   "id": "8a2b46dc-1645-444c-adac-20aa8211a538",
   "metadata": {},
   "outputs": [
    {
     "name": "stdout",
     "output_type": "stream",
     "text": [
      "Epoch 1/5\n",
      "171/171 [==============================] - 2s 4ms/step - loss: 0.3438 - accuracy: 0.8622 - val_loss: 0.2373 - val_accuracy: 0.9101\n",
      "Epoch 2/5\n",
      "171/171 [==============================] - 0s 2ms/step - loss: 0.2129 - accuracy: 0.9176 - val_loss: 0.2287 - val_accuracy: 0.9140\n",
      "Epoch 3/5\n",
      "171/171 [==============================] - 0s 2ms/step - loss: 0.2025 - accuracy: 0.9196 - val_loss: 0.2241 - val_accuracy: 0.9138\n",
      "Epoch 4/5\n",
      "171/171 [==============================] - 0s 2ms/step - loss: 0.1911 - accuracy: 0.9249 - val_loss: 0.2228 - val_accuracy: 0.9139\n",
      "Epoch 5/5\n",
      "171/171 [==============================] - 0s 2ms/step - loss: 0.1888 - accuracy: 0.9249 - val_loss: 0.2258 - val_accuracy: 0.9138\n"
     ]
    }
   ],
   "source": [
    "X_train_array = np.asarray(X_train).astype('float32')\n",
    "X_test_array = np.asarray(X_test).astype('float32')\n",
    "imp_mean = SimpleImputer(missing_values=np.nan, strategy='mean')\n",
    "imp_mean.fit(X_train_array)\n",
    "X_train_imputed = imp_mean.transform(X_train_array)\n",
    "X_test_imputed = imp_mean.transform(X_test_array)\n",
    "normalizer = preprocessing.Normalization()\n",
    "normalizer.adapt(X_train_imputed)\n",
    "X_train_noralized = normalizer(X_train_imputed)\n",
    "X_test_noralized = normalizer(X_test_imputed)\n",
    "\n",
    "model = Sequential()\n",
    "model.add(layers.Dense(X_train.shape[1], activation=tf.nn.relu, kernel_initializer='he_normal', bias_initializer='zeros'))\n",
    "model.add(layers.Dense(40, activation=tf.nn.relu, kernel_initializer='he_normal', bias_initializer='zeros'))\n",
    "model.add(layers.Dense(1, activation=tf.nn.sigmoid, kernel_initializer='he_normal', bias_initializer='zeros'))\n",
    "\n",
    "model.compile(optimizer=\"adam\", loss=\"binary_crossentropy\", metrics=[\"accuracy\"])\n",
    "\n",
    "model.fit(X_train_noralized, y_train, validation_data=(X_test_noralized, y_test), epochs=5, batch_size=256)\n",
    "\n",
    "probs = model.predict(X_test_noralized)"
   ]
  },
  {
   "cell_type": "code",
   "execution_count": 20,
   "id": "6628f76b-377b-47f2-b42f-072ffc10490a",
   "metadata": {},
   "outputs": [
    {
     "name": "stdout",
     "output_type": "stream",
     "text": [
      "ROC:  0.8980047339183357\n",
      "              precision    recall  f1-score   support\n",
      "\n",
      "           0       0.92      0.99      0.95      9757\n",
      "           1       0.73      0.31      0.43      1165\n",
      "\n",
      "    accuracy                           0.91     10922\n",
      "   macro avg       0.83      0.65      0.69     10922\n",
      "weighted avg       0.90      0.91      0.90     10922\n",
      "\n"
     ]
    },
    {
     "data": {
      "text/plain": [
       "<sklearn.metrics._plot.confusion_matrix.ConfusionMatrixDisplay at 0x7fadac1988b0>"
      ]
     },
     "execution_count": 20,
     "metadata": {},
     "output_type": "execute_result"
    },
    {
     "data": {
      "image/png": "[encoded data removed]",
      "text/plain": [
       "<Figure size 432x288 with 2 Axes>"
      ]
     },
     "metadata": {
      "needs_background": "light"
     },
     "output_type": "display_data"
    }
   ],
   "source": [
    "preds = np.around(probs)\n",
    "\n",
    "roc_score = metrics.roc_auc_score(y_test, probs)\n",
    "\n",
    "print('ROC: ', roc_score)\n",
    "\n",
    "classification_report = metrics.classification_report(y_test, preds)\n",
    "print(classification_report)\n",
    "\n",
    "cm = confusion_matrix(y_test, preds, labels=[0, 1])\n",
    "disp = ConfusionMatrixDisplay(confusion_matrix=cm, display_labels=['survided', 'not-survived'])\n",
    "disp.plot()"
   ]
  },
  {
   "cell_type": "code",
   "execution_count": null,
   "id": "4362c3e0-1c56-47ab-bc59-dc5d192daf91",
   "metadata": {},
   "outputs": [],
   "source": []
  }
 ],
 "metadata": {
  "kernelspec": {
   "display_name": "Python 3",
   "language": "python",
   "name": "python3"
  },
  "language_info": {
   "codemirror_mode": {
    "name": "ipython",
    "version": 3
   },
   "file_extension": ".py",
   "mimetype": "text/x-python",
   "name": "python",
   "nbconvert_exporter": "python",
   "pygments_lexer": "ipython3",
   "version": "3.9.1"
  }
 },
 "nbformat": 4,
 "nbformat_minor": 5
}
